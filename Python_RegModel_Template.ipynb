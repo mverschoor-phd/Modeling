{
  "nbformat": 4,
  "nbformat_minor": 0,
  "metadata": {
    "colab": {
      "name": "Python_RegModel_Template.ipynb",
      "provenance": [],
      "collapsed_sections": [],
      "authorship_tag": "ABX9TyN2Yil+bgstQ8XC/P93OKjx",
      "include_colab_link": true
    },
    "kernelspec": {
      "name": "python3",
      "display_name": "Python 3"
    },
    "language_info": {
      "name": "python"
    }
  },
  "cells": [
    {
      "cell_type": "markdown",
      "metadata": {
        "id": "view-in-github",
        "colab_type": "text"
      },
      "source": [
        "<a href=\"https://colab.research.google.com/github/mverschoor-phd/Modeling/blob/main/Python_RegModel_Template.ipynb\" target=\"_parent\"><img src=\"https://colab.research.google.com/assets/colab-badge.svg\" alt=\"Open In Colab\"/></a>"
      ]
    },
    {
      "cell_type": "markdown",
      "source": [
        "# [Project Name]\n",
        "\n",
        "* Author:\n",
        "* Date created: \n",
        "* Project: \n",
        "* Study: \n",
        "* Related Files: "
      ],
      "metadata": {
        "id": "N7qGB4WsYYQG"
      }
    },
    {
      "cell_type": "code",
      "source": [
        "#Import libraries\n",
        "import pandas as pd  \n",
        "import numpy as np  \n",
        "import matplotlib.pyplot as plt  \n",
        "import seaborn as sns \n",
        "from sklearn.model_selection import train_test_split \n",
        "from sklearn.linear_model import LinearRegression\n",
        "from sklearn import metrics\n",
        "%matplotlib inline"
      ],
      "metadata": {
        "id": "O9DwIfn0YVhO"
      },
      "execution_count": null,
      "outputs": []
    },
    {
      "cell_type": "code",
      "source": [
        "#Read excel data file\n",
        "\n",
        "df = pd.read_excel(\"[file name]\")"
      ],
      "metadata": {
        "id": "-3hIUMKOZAZ8"
      },
      "execution_count": null,
      "outputs": []
    },
    {
      "cell_type": "code",
      "source": [
        "#Show top 5 rows\n",
        "df.head()"
      ],
      "metadata": {
        "id": "APMHLsGcThzo"
      },
      "execution_count": null,
      "outputs": []
    },
    {
      "cell_type": "code",
      "source": [
        "#New dataframe of variables of interest and show top 5 rows\n",
        "df_2 = df[['[var1]','[var2]','[var3]']]\n",
        "df_2.head()"
      ],
      "metadata": {
        "id": "Qs7i0exQndkI"
      },
      "execution_count": null,
      "outputs": []
    },
    {
      "cell_type": "code",
      "source": [
        "#Pair plot to show scatter and histograms for both variables\n",
        "sns.pairplot(df_2)"
      ],
      "metadata": {
        "id": "xNWlUHYCThXl"
      },
      "execution_count": null,
      "outputs": []
    },
    {
      "cell_type": "code",
      "source": [
        "#Define test and train data splits for regression modelling\n",
        "y = df_2['var-y'].values.reshape(-1,1)\n",
        "X = df_2['ver-x'].values.reshape(-1,1)\n",
        "X_train, X_test, y_train, y_test = train_test_split(X, y, test_size=0.2, random_state=0)"
      ],
      "metadata": {
        "id": "_EcfNfKfe719"
      },
      "execution_count": null,
      "outputs": []
    },
    {
      "cell_type": "code",
      "source": [
        "#Define linear regression function\n",
        "reg = LinearRegression()  \n",
        "reg.fit(X_train, y_train) #training the algorithm"
      ],
      "metadata": {
        "id": "5tsKaLNPfY33"
      },
      "execution_count": null,
      "outputs": []
    },
    {
      "cell_type": "code",
      "source": [
        "#To retrieve the intercept:\n",
        "print(reg.intercept_)\n",
        "\n",
        "#For retrieving the slope:\n",
        "print(reg.coef_)"
      ],
      "metadata": {
        "id": "obRP7GMgflqq"
      },
      "execution_count": null,
      "outputs": []
    },
    {
      "cell_type": "code",
      "source": [
        "#Run prediction on test dataframe\n",
        "y_pred = reg.predict(X_test)"
      ],
      "metadata": {
        "id": "KNdmy0GInQXk"
      },
      "execution_count": null,
      "outputs": []
    },
    {
      "cell_type": "code",
      "source": [
        "#Show predicted values from regression model in table\n",
        "df_reg = pd.DataFrame({'Actual': y_test.flatten(), 'Predicted': y_pred.flatten()})\n",
        "df_reg"
      ],
      "metadata": {
        "id": "wjE6StXrnUPX"
      },
      "execution_count": null,
      "outputs": []
    },
    {
      "cell_type": "code",
      "source": [
        "#Plot predicted values compared to actual values to show model accuracy\n",
        "df1 = df_reg.head(25)\n",
        "df1.plot(kind='bar',figsize=(16,10))\n",
        "plt.grid(which='major', linestyle='-', linewidth='0.5')\n",
        "plt.grid(which='minor', linestyle=':', linewidth='0.5')\n",
        "plt.show()"
      ],
      "metadata": {
        "id": "LoIKDUoRnefH"
      },
      "execution_count": null,
      "outputs": []
    },
    {
      "cell_type": "code",
      "source": [
        "#Plot test model predictions in scatter plot with trendline for model correctness\n",
        "plt.scatter(X_test, y_test,  color='gray')\n",
        "plt.plot(X_test, y_pred, color='red', linewidth=2)\n",
        "plt.show()"
      ],
      "metadata": {
        "id": "1ZhC-_XCnmdB"
      },
      "execution_count": null,
      "outputs": []
    },
    {
      "cell_type": "code",
      "source": [
        "#Determine MAE, MSE and RMSE for regression model\n",
        "print('Mean Absolute Error:', metrics.mean_absolute_error(y_test, y_pred))  \n",
        "print('Mean Squared Error:', metrics.mean_squared_error(y_test, y_pred))  \n",
        "print('Root Mean Squared Error:', np.sqrt(metrics.mean_squared_error(y_test, y_pred)))"
      ],
      "metadata": {
        "id": "2X8jBTb5ntQf"
      },
      "execution_count": null,
      "outputs": []
    },
    {
      "cell_type": "markdown",
      "source": [
        "# Use model to predict independent variable from cell culture viability target"
      ],
      "metadata": {
        "id": "hbYlDeSjgJ5Q"
      }
    },
    {
      "cell_type": "code",
      "source": [
        "#Predict for a cell culture viability of 70\n",
        "test_X = np.array(70).reshape(-1, 1)\n",
        "reg.predict(test_X)"
      ],
      "metadata": {
        "id": "l4BShOfLoLJ3"
      },
      "execution_count": null,
      "outputs": []
    },
    {
      "cell_type": "code",
      "source": [
        "#Predict for a cell culture viability of 80\n",
        "test_X2 = np.array(80).reshape(-1, 1)\n",
        "regressor.predict(test_X2)"
      ],
      "metadata": {
        "id": "gI-X4tCI3VUr"
      },
      "execution_count": null,
      "outputs": []
    },
    {
      "cell_type": "code",
      "source": [
        "#Use nbconvert via Jupyter to export markdown notebook to html\n",
        "!jupyter nbconvert --to html [downloaded ipynb file path]"
      ],
      "metadata": {
        "id": "8PRg2vQcsOHq"
      },
      "execution_count": null,
      "outputs": []
    }
  ]
}