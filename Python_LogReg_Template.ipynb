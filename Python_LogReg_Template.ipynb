{
  "nbformat": 4,
  "nbformat_minor": 0,
  "metadata": {
    "colab": {
      "name": "Python_LogReg_Template.ipynb",
      "provenance": [],
      "collapsed_sections": [],
      "authorship_tag": "ABX9TyMLqxq4zDlSpCWlrS9ICDly",
      "include_colab_link": true
    },
    "kernelspec": {
      "name": "python3",
      "display_name": "Python 3"
    },
    "language_info": {
      "name": "python"
    }
  },
  "cells": [
    {
      "cell_type": "markdown",
      "metadata": {
        "id": "view-in-github",
        "colab_type": "text"
      },
      "source": [
        "<a href=\"https://colab.research.google.com/github/mverschoor-phd/Modeling/blob/main/Python_LogReg_Template.ipynb\" target=\"_parent\"><img src=\"https://colab.research.google.com/assets/colab-badge.svg\" alt=\"Open In Colab\"/></a>"
      ]
    },
    {
      "cell_type": "markdown",
      "source": [
        "# Logistic Regression Model Building\n",
        "\n",
        "* Author: \n",
        "* Date created: \n",
        "* Project: \n",
        "* Study: \n",
        "* Related files:"
      ],
      "metadata": {
        "id": "OuOpqlDdmaGj"
      }
    },
    {
      "cell_type": "code",
      "execution_count": 1,
      "metadata": {
        "id": "3Tsx2QAimSjs"
      },
      "outputs": [],
      "source": [
        "#Import libraries\n",
        "\n",
        "import pandas as pd\n",
        "import numpy as np\n",
        "import seaborn as sns\n",
        "from sklearn.model_selection import train_test_split\n",
        "from sklearn.linear_model import LogisticRegression\n",
        "from sklearn import metrics\n",
        "from sklearn.metrics import classification_report\n",
        "from sklearn.metrics import roc_auc_score\n",
        "from sklearn.metrics import roc_curve\n",
        "import matplotlib.pyplot as plt\n",
        "%matplotlib inline"
      ]
    },
    {
      "cell_type": "code",
      "source": [
        "#Read uploaded excel data file\n",
        "df = pd.read_excel(['[file path'])"
      ],
      "metadata": {
        "id": "FsCyje4asJuZ"
      },
      "execution_count": null,
      "outputs": []
    },
    {
      "cell_type": "code",
      "source": [
        "#Look at tope 5 rows\n",
        "df.head()"
      ],
      "metadata": {
        "id": "tHbg4uzOsJxX"
      },
      "execution_count": null,
      "outputs": []
    },
    {
      "cell_type": "code",
      "source": [
        "#Divide into features and target dataframes\n",
        "X = df.drop(['[variables not included in model]'],axis=1)\n",
        "Y = df['[var-y]']"
      ],
      "metadata": {
        "id": "oN_CZQ1TsJ5S"
      },
      "execution_count": null,
      "outputs": []
    },
    {
      "cell_type": "code",
      "source": [
        "#Split X and Y into training and testing sets\n",
        "x_train,x_test,y_train,y_test = train_test_split(X,Y,test_size=0.25, random_state=42) #Bonus points if you get the random state reference"
      ],
      "metadata": {
        "id": "LSdSeQRdvWKT"
      },
      "execution_count": null,
      "outputs": []
    },
    {
      "cell_type": "code",
      "source": [
        "#instantiate the model\n",
        "logreg = LogisticRegression()\n",
        "\n",
        "#fit model with data\n",
        "logreg.fit(x_train,y_train)"
      ],
      "metadata": {
        "id": "P1Bb1TAlv8Rn"
      },
      "execution_count": null,
      "outputs": []
    },
    {
      "cell_type": "code",
      "source": [
        "y_pred = logreg.predict(x_test)"
      ],
      "metadata": {
        "id": "HOH8HG2YwVzp"
      },
      "execution_count": null,
      "outputs": []
    },
    {
      "cell_type": "code",
      "source": [
        "#import the metrics class\n",
        "cnf_matrix = metrics.confusion_matrix(y_test,y_pred)\n",
        "cnf_matrix"
      ],
      "metadata": {
        "id": "7dO2bLM7wk58"
      },
      "execution_count": null,
      "outputs": []
    },
    {
      "cell_type": "code",
      "source": [
        "#Plot confusion matrix\n",
        "predictions = logreg.predict(x_test)\n",
        "cm = metrics.confusion_matrix(y_test, predictions)\n",
        "\n",
        "# Use score method to get accuracy of model\n",
        "score = logreg.score(x_test, y_test)\n",
        "\n",
        "plt.figure(figsize=(9,9))\n",
        "sns.heatmap(cm, annot=True, fmt=\".3f\", linewidths=.5, square = True, cmap = 'GnBu')\n",
        "plt.ylabel('[var-y]')\n",
        "plt.xlabel('[var-x]')\n",
        "all_sample_title = 'Accuracy Score: {0}'.format(score)\n",
        "plt.title(all_sample_title, size = 15)"
      ],
      "metadata": {
        "id": "h7WbGxOjGnnK"
      },
      "execution_count": null,
      "outputs": []
    },
    {
      "cell_type": "markdown",
      "source": [
        "## Classification Report\n",
        "\n",
        "Precision is the ratio of true positives/(true positives + false positives) - ability of model to label as sample as positive if negative.\n",
        "\n",
        "Recall is the ratio of true positives/(true positives + false negatives) - ability of model to find all positive samples\n",
        "\n",
        "F1-score is weighted harmonic mean of precision and recall - best at 1, worst at 0. Weighs the recall more than precision by beta factor. I used beta of 1 to weigh recall and precision equally.\n",
        "\n",
        "Support is the number of occurrences of each class in y_test dataset."
      ],
      "metadata": {
        "id": "PyIcHhuf3wwj"
      }
    },
    {
      "cell_type": "code",
      "source": [
        "#Generate sklearn Classification Report\n",
        "print(classification_report(y_test, y_pred))"
      ],
      "metadata": {
        "id": "2E_B6Ork2yNP"
      },
      "execution_count": null,
      "outputs": []
    },
    {
      "cell_type": "markdown",
      "source": [
        "Interpretation: [interpretation of model based on classification report]"
      ],
      "metadata": {
        "id": "b0pEkD3t-Nmc"
      }
    },
    {
      "cell_type": "markdown",
      "source": [
        "## ROC Curve"
      ],
      "metadata": {
        "id": "AK6utAxF_AtR"
      }
    },
    {
      "cell_type": "code",
      "source": [
        "#Generate ROC curve to show predictive ability of model to distinguish between classes\n",
        "logit_roc_auc = roc_auc_score(y_test, logreg.predict(x_test))\n",
        "\n",
        "fpr, tpr, thresholds = roc_curve(y_test, logreg.predict_proba(x_test)[:,1])\n",
        "\n",
        "plt.figure()\n",
        "plt.plot(fpr, tpr, label='Logistic Regression (area = %0.2f)' % logit_roc_auc)\n",
        "plt.plot([0, 1], [0, 1],'r--')\n",
        "plt.xlim([0.0, 1.0])\n",
        "plt.ylim([0.0, 1.05])\n",
        "plt.xlabel('False Positive Rate')\n",
        "plt.ylabel('True Positive Rate')\n",
        "plt.title('Receiver operating characteristic')\n",
        "plt.legend(loc=\"lower right\")\n",
        "plt.savefig('Log_ROC')\n",
        "plt.show()"
      ],
      "metadata": {
        "colab": {
          "base_uri": "https://localhost:8080/",
          "height": 295
        },
        "id": "ShV20fej3lmb",
        "outputId": "c3318fcc-6b7a-4f99-96c2-20f9a39a699a"
      },
      "execution_count": null,
      "outputs": [
        {
          "output_type": "display_data",
          "data": {
            "image/png": "[encoded data removed]",
            "text/plain": [
              "<Figure size 432x288 with 1 Axes>"
            ]
          },
          "metadata": {
            "needs_background": "light"
          }
        }
      ]
    },
    {
      "cell_type": "markdown",
      "source": [
        "Interpretation: Dotted line represents the ROC curve of a purely random classifier, where a good classifier stays far away from the dotted line approaching 1.0 (toward top-left corner). The plot is the true positive rate against the false positive rate, showing the tradeoff between sensitivity and specificity."
      ],
      "metadata": {
        "id": "sZMG-M7HAK1n"
      }
    }
  ]
}