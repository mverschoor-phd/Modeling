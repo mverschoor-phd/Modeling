{
  "nbformat": 4,
  "nbformat_minor": 0,
  "metadata": {
    "colab": {
      "name": "Python_Plotting_Template.ipynb",
      "provenance": [],
      "collapsed_sections": [],
      "authorship_tag": "ABX9TyMPjSzKl4pBEuV0w/KIGLzg",
      "include_colab_link": true
    },
    "kernelspec": {
      "name": "python3",
      "display_name": "Python 3"
    },
    "language_info": {
      "name": "python"
    }
  },
  "cells": [
    {
      "cell_type": "markdown",
      "metadata": {
        "id": "view-in-github",
        "colab_type": "text"
      },
      "source": [
        "<a href=\"https://colab.research.google.com/github/mverschoor-phd/Modeling/blob/main/Python_Plotting_Template.ipynb\" target=\"_parent\"><img src=\"https://colab.research.google.com/assets/colab-badge.svg\" alt=\"Open In Colab\"/></a>"
      ]
    },
    {
      "cell_type": "markdown",
      "source": [
        "# [Project Name]\n",
        "\n",
        "* Author: \n",
        "* Date created: \n",
        "* Project: \n",
        "* Study: \n",
        "* Related files: "
      ],
      "metadata": {
        "id": "N7qGB4WsYYQG"
      }
    },
    {
      "cell_type": "code",
      "source": [
        "#Import libraries\n",
        "import pandas as pd\n",
        "import numpy as np\n",
        "import seaborn as sns\n",
        "from scipy import stats\n",
        "from sklearn import preprocessing\n",
        "from sklearn.model_selection import KFold\n",
        "from sklearn.preprocessing import StandardScaler\n",
        "from sklearn.decomposition import PCA\n",
        "import matplotlib.pyplot as plt\n",
        "%matplotlib inline\n",
        "import plotly\n",
        "import plotly.express as px\n",
        "from sklearn.linear_model import LinearRegression\n",
        "linreg = LinearRegression()"
      ],
      "metadata": {
        "id": "O9DwIfn0YVhO"
      },
      "execution_count": null,
      "outputs": []
    },
    {
      "cell_type": "code",
      "source": [
        "#Read excel data file\n",
        "df = pd.read_excel(\"[file path]\")"
      ],
      "metadata": {
        "id": "-3hIUMKOZAZ8"
      },
      "execution_count": null,
      "outputs": []
    },
    {
      "cell_type": "code",
      "source": [
        "df.head()"
      ],
      "metadata": {
        "id": "PXU5pLU25RiV"
      },
      "execution_count": null,
      "outputs": []
    },
    {
      "cell_type": "code",
      "source": [
        "df_map = df.drop(['exp', 'tpp_pass'], axis = 1) #Drop all non-numeric variables"
      ],
      "metadata": {
        "id": "Qs7i0exQndkI"
      },
      "execution_count": null,
      "outputs": []
    },
    {
      "cell_type": "code",
      "source": [
        "#Look at first 5 rows of new map dataframe\n",
        "df_map.head()"
      ],
      "metadata": {
        "id": "vlsWRU16n1I8"
      },
      "execution_count": null,
      "outputs": []
    },
    {
      "cell_type": "code",
      "source": [
        "#Descriptive stats on map dataframe\n",
        "df_map.describe()"
      ],
      "metadata": {
        "id": "G2P-Z0j7GDs4"
      },
      "execution_count": null,
      "outputs": []
    },
    {
      "cell_type": "code",
      "source": [
        "# Interactive plotly bar chart of [var-y], repeat cell for each variable as needed (or write function for plotting each var via loop)\n",
        "fig = px.bar(df, x=\"[category-var]\", y=\"[var-y]\", labels={'[category-var]':'Category', '[var-y]':'Variable y'},color='[var-y]',)\n",
        " \n",
        "# showing the plot\n",
        "fig.show()"
      ],
      "metadata": {
        "id": "lXFxrLYpoSs7"
      },
      "execution_count": null,
      "outputs": []
    },
    {
      "cell_type": "code",
      "source": [
        "# Pandas pivot with multiple variables\n",
        "heatmap_data = pd.pivot_table(df_map, values=['[var-1]', '[var-2]','[var-3]', columns='[category=var]')\n",
        "heatmap_data.head()"
      ],
      "metadata": {
        "id": "ooUr6dFmH70x"
      },
      "execution_count": null,
      "outputs": []
    },
    {
      "cell_type": "code",
      "source": [
        "#Rename variables to make heatmap look better (SQL names don't look good in plots)\n",
        "heatmap_data.rename(index={'[var-1]':'[var-1 name]','[var-2]':'[var-2 name]'},inplace=True)"
      ],
      "metadata": {
        "id": "_qpyOHDapPDm"
      },
      "execution_count": null,
      "outputs": []
    },
    {
      "cell_type": "code",
      "source": [
        "#Heatmap with dendogram of key donor screen variables with z-score standardization\n",
        "sns.clustermap(heatmap_data,z_score=\"int\", cmap=\"Blues\", metric=\"correlation\")"
      ],
      "metadata": {
        "id": "DLwHKSPBNH8s"
      },
      "execution_count": null,
      "outputs": []
    },
    {
      "cell_type": "code",
      "source": [
        "# Compute the correlation matrix\n",
        "corr = heatmap_data.corr()\n",
        "\n",
        "# Generate a mask for the upper triangle\n",
        "mask = np.triu(np.ones_like(corr, dtype=bool))\n",
        "\n",
        "# Set up the matplotlib figure\n",
        "f, ax = plt.subplots(figsize=(11, 9))\n",
        "\n",
        "# Generate a custom diverging colormap\n",
        "cmap = sns.diverging_palette(230, 20, as_cmap=True)\n",
        "\n",
        "# Draw the heatmap with the mask and correct aspect ratio\n",
        "sns.heatmap(corr, mask=mask, cmap=cmap, vmax=.3, center=0,\n",
        "            square=True, linewidths=.5, cbar_kws={\"shrink\": .5})"
      ],
      "metadata": {
        "id": "dZTZjY5ZTqE3"
      },
      "execution_count": null,
      "outputs": []
    },
    {
      "cell_type": "code",
      "source": [
        "#Normalize featuers for machine learning\n",
        "x = df_map\n",
        "x = StandardScaler().fit_transform(x)"
      ],
      "metadata": {
        "id": "8sYbo4pY0Vdc"
      },
      "execution_count": null,
      "outputs": []
    },
    {
      "cell_type": "code",
      "source": [
        "#Check normalized data mean and standard deviation\n",
        "np.mean(x),np.std(x)"
      ],
      "metadata": {
        "id": "MupqhhqG0VgE"
      },
      "execution_count": null,
      "outputs": []
    },
    {
      "cell_type": "code",
      "source": [
        "#convert normalized features to dataframe\n",
        "feat_cols = ['feature'+str(i) for i in range(x.shape[1])]"
      ],
      "metadata": {
        "id": "bERtupMH1dpr"
      },
      "execution_count": null,
      "outputs": []
    },
    {
      "cell_type": "code",
      "source": [
        "normalised_data = pd.DataFrame(x,columns=feat_cols)"
      ],
      "metadata": {
        "id": "0KmLD8WR1wZT"
      },
      "execution_count": null,
      "outputs": []
    },
    {
      "cell_type": "code",
      "source": [
        "normalised_data.head()"
      ],
      "metadata": {
        "id": "489H-kW82MZ0"
      },
      "execution_count": null,
      "outputs": []
    },
    {
      "cell_type": "code",
      "source": [
        "#Run PCA\n",
        "pca_data = PCA(n_components=2)\n",
        "\n",
        "princ_comp_data = pca_data.fit_transform(x)"
      ],
      "metadata": {
        "id": "xRiIq_0P2fHE"
      },
      "execution_count": null,
      "outputs": []
    },
    {
      "cell_type": "code",
      "source": [
        "principal_Df = pd.DataFrame(data = princ_comp_data\n",
        "             , columns = ['Principal_Component_1', 'Principal_Component_2'])"
      ],
      "metadata": {
        "id": "H58xGdqC3JBR"
      },
      "execution_count": null,
      "outputs": []
    },
    {
      "cell_type": "code",
      "source": [
        "principal_Df.head()"
      ],
      "metadata": {
        "id": "klzg7vzU3JEM"
      },
      "execution_count": null,
      "outputs": []
    },
    {
      "cell_type": "code",
      "source": [
        "print('Explained variation per principal component: {}'.format(pca_data.explained_variance_ratio_))"
      ],
      "metadata": {
        "id": "pLAtRSlO3JF8"
      },
      "execution_count": null,
      "outputs": []
    },
    {
      "cell_type": "code",
      "source": [
        "#Scatter plot of components from PCA\n",
        "plt.figure()\n",
        "plt.figure(figsize=(10,10))\n",
        "plt.xticks(fontsize=12)\n",
        "plt.yticks(fontsize=14)\n",
        "plt.xlabel('Principal Component - 1',fontsize=20)\n",
        "plt.ylabel('Principal Component - 2',fontsize=20)\n",
        "plt.title(\"Principal Component Analysis\",fontsize=20)\n",
        "targets = ['Y', 'N']\n",
        "colors = ['b', 'g']\n",
        "for target, color in zip(targets,colors):\n",
        "    indicesToKeep = df['tpp_pass'] == target\n",
        "    plt.scatter(principal_Df.loc[indicesToKeep, 'Principal_Component_1']\n",
        "               , principal_Df.loc[indicesToKeep, 'Principal_Component_2'], c = color, s = 50)\n",
        "\n",
        "plt.legend(targets,prop={'size': 15})"
      ],
      "metadata": {
        "id": "djnxoEHf3JIN"
      },
      "execution_count": null,
      "outputs": []
    },
    {
      "cell_type": "code",
      "source": [
        ""
      ],
      "metadata": {
        "id": "inB9WatT4vmF"
      },
      "execution_count": null,
      "outputs": []
    }
  ]
}