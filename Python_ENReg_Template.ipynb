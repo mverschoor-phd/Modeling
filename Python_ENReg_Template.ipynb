{
  "nbformat": 4,
  "nbformat_minor": 0,
  "metadata": {
    "colab": {
      "name": "Python_ENReg_Template.ipynb",
      "provenance": [],
      "collapsed_sections": [],
      "authorship_tag": "ABX9TyPS0nFHc7QgfLQrzbw9Eui6",
      "include_colab_link": true
    },
    "kernelspec": {
      "name": "python3",
      "display_name": "Python 3"
    },
    "language_info": {
      "name": "python"
    }
  },
  "cells": [
    {
      "cell_type": "markdown",
      "metadata": {
        "id": "view-in-github",
        "colab_type": "text"
      },
      "source": [
        "<a href=\"https://colab.research.google.com/github/mverschoor-phd/Modeling/blob/main/Python_ENReg_Template.ipynb\" target=\"_parent\"><img src=\"https://colab.research.google.com/assets/colab-badge.svg\" alt=\"Open In Colab\"/></a>"
      ]
    },
    {
      "cell_type": "markdown",
      "source": [
        "# [Project Name]\n",
        "\n",
        "* Author: \n",
        "* Date created: \n",
        "* Project: \n",
        "* Study: \n",
        "* Related files:"
      ],
      "metadata": {
        "id": "-2Gh8P0DWV0Z"
      }
    },
    {
      "cell_type": "markdown",
      "source": [
        "# Goal of Analysis\n",
        "\n",
        "We want to know what variables effect [include goal here]"
      ],
      "metadata": {
        "id": "xm3RHwYNZFIP"
      }
    },
    {
      "cell_type": "markdown",
      "source": [
        "# Data Analysis"
      ],
      "metadata": {
        "id": "Pei-H_GCZfve"
      }
    },
    {
      "cell_type": "code",
      "execution_count": null,
      "metadata": {
        "id": "C75t83XLWJ87"
      },
      "outputs": [],
      "source": [
        "#Import libraries\n",
        "import numpy as np\n",
        "import pandas as pd\n",
        "from sklearn.linear_model import Ridge, Lasso, ElasticNet, LinearRegression\n",
        "from sklearn.metrics import mean_squared_error,r2_score\n",
        "from sklearn.model_selection import train_test_split, cross_val_score\n",
        "from sklearn import model_selection\n",
        "import matplotlib.pyplot as plt\n",
        "from sklearn.linear_model import RidgeCV, LassoCV,ElasticNetCV"
      ]
    },
    {
      "cell_type": "code",
      "source": [
        "#Data reading\n",
        "\n",
        "df = pd.read_csv(\"[file path]\")"
      ],
      "metadata": {
        "id": "ILAk5asdWioy"
      },
      "execution_count": null,
      "outputs": []
    },
    {
      "cell_type": "code",
      "source": [
        "df.head()"
      ],
      "metadata": {
        "id": "vPfnZv7qWiw3"
      },
      "execution_count": null,
      "outputs": []
    },
    {
      "cell_type": "markdown",
      "source": [
        "## Elastic Net Regression Model"
      ],
      "metadata": {
        "id": "6B83GFjzctBH"
      }
    },
    {
      "cell_type": "code",
      "source": [
        "#Define data for model\n",
        "y = df['[var-y']\n",
        "\n",
        "X = df.drop(['[var-x1]', '[var-x2]', '[var-x3]','[var-x4]'], axis=1)\n",
        "\n",
        "X_train, X_test, y_train, y_test = train_test_split(X,y,test_size=0.25,random_state=42) #Bonus points if you know the random state reference"
      ],
      "metadata": {
        "id": "3q0iBDDGWi6i"
      },
      "execution_count": null,
      "outputs": []
    },
    {
      "cell_type": "code",
      "source": [
        "#Fit elastic regression model\n",
        "enet_model = ElasticNet().fit(X_train,y_train)"
      ],
      "metadata": {
        "id": "9GPCIuz1b1Wo"
      },
      "execution_count": null,
      "outputs": []
    },
    {
      "cell_type": "code",
      "source": [
        "#Examine variable coefficients\n",
        "enet_model.coef_"
      ],
      "metadata": {
        "id": "impJYFggcmLX"
      },
      "execution_count": null,
      "outputs": []
    },
    {
      "cell_type": "code",
      "source": [
        "#Examine model intercept\n",
        "enet_model.intercept_"
      ],
      "metadata": {
        "id": "jh3EAexLco8A"
      },
      "execution_count": null,
      "outputs": []
    },
    {
      "cell_type": "markdown",
      "source": [
        "##Prediction"
      ],
      "metadata": {
        "id": "nYGtXY3Ae6hX"
      }
    },
    {
      "cell_type": "code",
      "source": [
        "#First 10 predictions for training dataset of the model\n",
        "enet_model.predict(X_train)[:10]"
      ],
      "metadata": {
        "id": "ypz8O1ygc8om"
      },
      "execution_count": null,
      "outputs": []
    },
    {
      "cell_type": "code",
      "source": [
        "#First 10 predictions for test dataset of the model\n",
        "enet_model.predict(X_test)[:10]"
      ],
      "metadata": {
        "id": "aiNRHnMEfDsK"
      },
      "execution_count": null,
      "outputs": []
    },
    {
      "cell_type": "code",
      "source": [
        "#Save predicted values over test set in cluster\n",
        "y_pred = enet_model.predict(X_test)\n",
        "\n",
        "#Calculate the relative mean squared error of the difference between observations and predictions, or sum of bias and variance\n",
        "np.sqrt(mean_squared_error(y_test,y_pred))"
      ],
      "metadata": {
        "id": "s7uY6UmXfLdW"
      },
      "execution_count": null,
      "outputs": []
    },
    {
      "cell_type": "code",
      "source": [
        "#Calculate R-squared to show percentage change in dependent variable explained by the independent variables\n",
        "r2_score(y_test,y_pred)"
      ],
      "metadata": {
        "id": "YA6YE3KyfpPZ"
      },
      "execution_count": null,
      "outputs": []
    },
    {
      "cell_type": "markdown",
      "source": [
        "##The Elastic Net Regression Model explains [r2_score]% of the change in the dependent variable of the dataset, in this case [response var here]. \n",
        "* Interpretation: [insert here]"
      ],
      "metadata": {
        "id": "ik8Z_8XbhNdV"
      }
    },
    {
      "cell_type": "markdown",
      "source": [
        "## Model Tuning"
      ],
      "metadata": {
        "id": "C_VZudfoktlE"
      }
    },
    {
      "cell_type": "code",
      "source": [
        "enet_cv_model = ElasticNetCV(cv = 10).fit(X_train2,y_train2)\n",
        "\n",
        "#If we don't give the lambda values, what is the alpha value\n",
        "\n",
        "enet_cv_model.alpha_"
      ],
      "metadata": {
        "id": "VGsxLyR1kSRI"
      },
      "execution_count": null,
      "outputs": []
    },
    {
      "cell_type": "code",
      "source": [
        "#Find the constant of the model established with ElasticNetCV\n",
        "enet_cv_model.intercept_"
      ],
      "metadata": {
        "id": "JZj_6ICNmHLN"
      },
      "execution_count": null,
      "outputs": []
    },
    {
      "cell_type": "code",
      "source": [
        "#Find coefficients of variables of the ElasticNetCV model\n",
        "enet_cv_model.coef_"
      ],
      "metadata": {
        "id": "2bNaft_rmUaV"
      },
      "execution_count": null,
      "outputs": []
    },
    {
      "cell_type": "code",
      "source": [
        "#Rebuild the Adjusted ElasticNet model with the optimum alpha value to see if we can improve results\n",
        "\n",
        "enet_tuned = ElasticNet(alpha = enet_cv_model.alpha_).fit(X_train2,y_train2)\n",
        "\n",
        "#Calculate the error for the test set in the tuned model\n",
        "\n",
        "y_pred3 = enet_tuned.predict(X_test2)\n",
        "\n",
        "np.sqrt(mean_squared_error(y_test2,y_pred3))"
      ],
      "metadata": {
        "id": "dLbOptVDmdDc"
      },
      "execution_count": null,
      "outputs": []
    },
    {
      "cell_type": "code",
      "source": [
        "#Check the tuned R-Squared value\n",
        "r2_score(y_test2,y_pred3)"
      ],
      "metadata": {
        "id": "RspyDXo9nAwt"
      },
      "execution_count": null,
      "outputs": []
    },
    {
      "cell_type": "markdown",
      "source": [
        "##The tuned Elastic Net Regression Model [does or does not] improve the predictive value of the independent variables [list vars here if applicable].\n",
        "* Interpretation: [insert interpretation here]"
      ],
      "metadata": {
        "id": "wVAdkJU1nQ2_"
      }
    },
    {
      "cell_type": "markdown",
      "source": [
        "# Conclusion\n",
        "\n",
        "The independent variables examined [are or are not] strong predictors of the response variable [list var here]."
      ],
      "metadata": {
        "id": "yhxlSUvCoOvt"
      }
    }
  ]
}